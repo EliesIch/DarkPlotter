{
 "cells": [
  {
   "cell_type": "code",
   "execution_count": null,
   "id": "ff63e1d1",
   "metadata": {},
   "outputs": [],
   "source": [
    "# import darkplotter lib\n",
    "import darkplotter as dp"
   ]
  },
  {
   "cell_type": "markdown",
   "id": "0fa41a55",
   "metadata": {},
   "source": [
    "## Data class constructor"
   ]
  },
  {
   "cell_type": "code",
   "execution_count": null,
   "id": "a4c2c7f4",
   "metadata": {},
   "outputs": [],
   "source": [
    "A=dp.DMdata()"
   ]
  },
  {
   "cell_type": "code",
   "execution_count": null,
   "id": "1692d135",
   "metadata": {},
   "outputs": [],
   "source": [
    "url='https://raw.githubusercontent.com/odadoun/DarkPlotter/NewGraphicToAdd/json/SI-CDMS-CDMS%20Si-b1519fe1d0d66e576bc7e5400a5709f0.json'\n",
    "A.uploadexperiement(url=url)"
   ]
  },
  {
   "cell_type": "markdown",
   "id": "a66143d2",
   "metadata": {},
   "source": [
    "## Get metadata  "
   ]
  },
  {
   "cell_type": "code",
   "execution_count": null,
   "id": "bc4a4b42",
   "metadata": {},
   "outputs": [],
   "source": [
    "A.getmetadata()"
   ]
  },
  {
   "cell_type": "markdown",
   "id": "847408db",
   "metadata": {},
   "source": [
    "## Data information"
   ]
  },
  {
   "cell_type": "code",
   "execution_count": null,
   "id": "6e9c6ae3",
   "metadata": {},
   "outputs": [],
   "source": [
    "A.getdata()"
   ]
  },
  {
   "cell_type": "markdown",
   "id": "97917e86",
   "metadata": {},
   "source": [
    "## Add an other experiment"
   ]
  },
  {
   "cell_type": "code",
   "execution_count": null,
   "id": "df9a6737",
   "metadata": {},
   "outputs": [],
   "source": [
    "url2='https://raw.githubusercontent.com/odadoun/DarkPlotter/NewGraphicToAdd/json/SI-EDELWEISS-EDELWEISS-LM%20Migdal-ad6d0d92325506725b809f7e157477db.json'\n",
    "A.uploadexperiement(url=url2)"
   ]
  },
  {
   "cell_type": "code",
   "execution_count": null,
   "id": "eb88b7a5",
   "metadata": {},
   "outputs": [],
   "source": [
    "A.getmetadata()"
   ]
  },
  {
   "cell_type": "code",
   "execution_count": null,
   "id": "a8d2aa00",
   "metadata": {},
   "outputs": [],
   "source": [
    "A.getdata()"
   ]
  },
  {
   "cell_type": "markdown",
   "id": "1500133a",
   "metadata": {},
   "source": [
    "## Plot constructor"
   ]
  },
  {
   "cell_type": "code",
   "execution_count": null,
   "id": "eeca64fe",
   "metadata": {},
   "outputs": [],
   "source": [
    "B=dp.DMplotter()"
   ]
  },
  {
   "cell_type": "code",
   "execution_count": null,
   "id": "3940571f",
   "metadata": {},
   "outputs": [],
   "source": [
    "A.getdata()"
   ]
  },
  {
   "cell_type": "code",
   "execution_count": null,
   "id": "e77dfde8",
   "metadata": {},
   "outputs": [],
   "source": [
    "B.plot(A.getdata())"
   ]
  },
  {
   "cell_type": "markdown",
   "id": "59c9d18a",
   "metadata": {},
   "source": [
    "## A folder with experiement json can be loaded\n",
    "by defautl this folder\n",
    "https://github.com/odadoun/DarkPlotter/tree/NewGraphicToAdd/json/\n",
    "A conversion between github file path and rawgithub need to be done "
   ]
  },
  {
   "cell_type": "code",
   "execution_count": null,
   "id": "f7b194c7",
   "metadata": {},
   "outputs": [],
   "source": [
    "# retrieve url "
   ]
  },
  {
   "cell_type": "code",
   "execution_count": null,
   "id": "76bb2dad",
   "metadata": {},
   "outputs": [],
   "source": [
    "u=A.githubpath2raw()"
   ]
  },
  {
   "cell_type": "code",
   "execution_count": null,
   "id": "a44fa7b6",
   "metadata": {},
   "outputs": [],
   "source": [
    "AA=dp.DMdata()\n",
    "AA.uploadexperiement(url=u.rawurl.tolist())"
   ]
  },
  {
   "cell_type": "code",
   "execution_count": null,
   "id": "bec6fe0b",
   "metadata": {},
   "outputs": [],
   "source": [
    "B.plot(AA.getdata())"
   ]
  },
  {
   "cell_type": "code",
   "execution_count": null,
   "id": "a7b99135",
   "metadata": {},
   "outputs": [],
   "source": []
  }
 ],
 "metadata": {
  "kernelspec": {
   "display_name": "Python 3 (ipykernel)",
   "language": "python",
   "name": "python3"
  },
  "language_info": {
   "codemirror_mode": {
    "name": "ipython",
    "version": 3
   },
   "file_extension": ".py",
   "mimetype": "text/x-python",
   "name": "python",
   "nbconvert_exporter": "python",
   "pygments_lexer": "ipython3",
   "version": "3.9.6"
  }
 },
 "nbformat": 4,
 "nbformat_minor": 5
}
