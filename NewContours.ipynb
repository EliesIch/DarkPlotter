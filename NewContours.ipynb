{
 "cells": [
  {
   "cell_type": "code",
   "execution_count": null,
   "id": "5fbf86ca",
   "metadata": {},
   "outputs": [],
   "source": [
    "# import darkplotter lib\n",
    "import darkplotter as dp\n",
    "# constructor\n",
    "A=dp.DMplotter()"
   ]
  },
  {
   "cell_type": "code",
   "execution_count": null,
   "id": "5e457c18",
   "metadata": {},
   "outputs": [],
   "source": [
    "# parse data files as pandas\n",
    "d=A.reportedexp()\n",
    "print(type(d))\n",
    "# store figure as bokeh line\n",
    "p=A.getfig(d)"
   ]
  },
  {
   "cell_type": "code",
   "execution_count": null,
   "id": "b9138d43",
   "metadata": {
    "scrolled": true
   },
   "outputs": [],
   "source": [
    "from bokeh.io import output_notebook\n",
    "from bokeh.io import show\n",
    "output_notebook()\n",
    "# draw all the exp. lines\n",
    "A.plot(p)"
   ]
  }
 ],
 "metadata": {
  "kernelspec": {
   "display_name": "Python 3 (ipykernel)",
   "language": "python",
   "name": "python3"
  },
  "language_info": {
   "codemirror_mode": {
    "name": "ipython",
    "version": 3
   },
   "file_extension": ".py",
   "mimetype": "text/x-python",
   "name": "python",
   "nbconvert_exporter": "python",
   "pygments_lexer": "ipython3",
   "version": "3.9.6"
  }
 },
 "nbformat": 4,
 "nbformat_minor": 5
}
