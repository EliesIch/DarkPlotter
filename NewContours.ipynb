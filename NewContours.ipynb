{
 "cells": [
  {
   "cell_type": "code",
   "execution_count": null,
   "id": "5fbf86ca",
   "metadata": {},
   "outputs": [],
   "source": [
    "import darkplotter as dp"
   ]
  },
  {
   "cell_type": "code",
   "execution_count": null,
   "id": "5e457c18",
   "metadata": {},
   "outputs": [],
   "source": [
    "A=dp.DMplotter()\n",
    "d=A.reportedexp()\n",
    "\n",
    "p=A.getfig(d)"
   ]
  },
  {
   "cell_type": "code",
   "execution_count": null,
   "id": "30668abe",
   "metadata": {},
   "outputs": [],
   "source": [
    "from bokeh.io import output_notebook\n",
    "from bokeh.io import show\n",
    "output_notebook()\n",
    "A.plot(p)"
   ]
  },
  {
   "cell_type": "code",
   "execution_count": null,
   "id": "c03e1010",
   "metadata": {},
   "outputs": [],
   "source": [
    "aa=d.apply(lambda x:[x['url']+i for i in x['files']],axis = 1).explode()\n",
    "for i in aa:\n",
    "    print('----',i)"
   ]
  }
 ],
 "metadata": {
  "kernelspec": {
   "display_name": "Python 3 (ipykernel)",
   "language": "python",
   "name": "python3"
  },
  "language_info": {
   "codemirror_mode": {
    "name": "ipython",
    "version": 3
   },
   "file_extension": ".py",
   "mimetype": "text/x-python",
   "name": "python",
   "nbconvert_exporter": "python",
   "pygments_lexer": "ipython3",
   "version": "3.9.6"
  }
 },
 "nbformat": 4,
 "nbformat_minor": 5
}
