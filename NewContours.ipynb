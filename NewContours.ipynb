{
 "cells": [
  {
   "cell_type": "code",
   "execution_count": null,
   "id": "ff63e1d1",
   "metadata": {},
   "outputs": [],
   "source": [
    "# import darkplotter lib\n",
    "import darkplotter as dp\n",
    "from bokeh.io import output_notebook\n",
    "from bokeh.io import show\n",
    "output_notebook()"
   ]
  },
  {
   "cell_type": "code",
   "execution_count": null,
   "id": "06217c2b",
   "metadata": {},
   "outputs": [],
   "source": [
    "# constructor\n",
    "A=dp.DMplotter()"
   ]
  },
  {
   "cell_type": "code",
   "execution_count": null,
   "id": "512146ae",
   "metadata": {},
   "outputs": [],
   "source": [
    "url1='https://raw.githubusercontent.com/odadoun/DarkPlotter/main/WIMPLimits/SDn/AllLimits-2021.txt'\n",
    "u1=A.getdata(url=url1)"
   ]
  },
  {
   "cell_type": "code",
   "execution_count": null,
   "id": "fd9ce8fc",
   "metadata": {},
   "outputs": [],
   "source": [
    "u1"
   ]
  },
  {
   "cell_type": "code",
   "execution_count": null,
   "id": "ce9255ab",
   "metadata": {},
   "outputs": [],
   "source": [
    "A.getfig(u1)"
   ]
  },
  {
   "cell_type": "code",
   "execution_count": null,
   "id": "7e2c1c7e",
   "metadata": {},
   "outputs": [],
   "source": [
    "url2='https://raw.githubusercontent.com/odadoun/DarkPlotter/main/WIMPLimits/SDn/CDMS.txt'\n",
    "u2=A.getdata(url=url2)"
   ]
  },
  {
   "cell_type": "code",
   "execution_count": null,
   "id": "82dec356",
   "metadata": {},
   "outputs": [],
   "source": [
    "A.getfig([u1,u2])"
   ]
  },
  {
   "cell_type": "code",
   "execution_count": null,
   "id": "0fa7bfe9",
   "metadata": {},
   "outputs": [],
   "source": [
    "u3=A.getdata()\n",
    "A.getfig(u3)"
   ]
  }
 ],
 "metadata": {
  "kernelspec": {
   "display_name": "Python 3 (ipykernel)",
   "language": "python",
   "name": "python3"
  },
  "language_info": {
   "codemirror_mode": {
    "name": "ipython",
    "version": 3
   },
   "file_extension": ".py",
   "mimetype": "text/x-python",
   "name": "python",
   "nbconvert_exporter": "python",
   "pygments_lexer": "ipython3",
   "version": "3.9.6"
  }
 },
 "nbformat": 4,
 "nbformat_minor": 5
}
