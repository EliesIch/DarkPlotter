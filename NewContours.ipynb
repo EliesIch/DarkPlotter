{
 "cells": [
  {
   "cell_type": "code",
   "execution_count": null,
   "id": "ff63e1d1",
   "metadata": {},
   "outputs": [],
   "source": [
    "# import darkplotter lib\n",
    "import darkplotter as dp"
   ]
  },
  {
   "cell_type": "markdown",
   "id": "b831608e",
   "metadata": {},
   "source": [
    "## Data class constructor"
   ]
  },
  {
   "cell_type": "code",
   "execution_count": null,
   "id": "a4c2c7f4",
   "metadata": {},
   "outputs": [],
   "source": [
    "A=dp.DMdata()"
   ]
  },
  {
   "cell_type": "code",
   "execution_count": null,
   "id": "1692d135",
   "metadata": {},
   "outputs": [],
   "source": [
    "url='https://raw.githubusercontent.com/odadoun/DarkPlotter/main/json/SI-CDMS-CDMS%20Si-b1519fe1d0d66e576bc7e5400a5709f0.json'\n",
    "A.uploadexperiement(url=url)"
   ]
  },
  {
   "cell_type": "code",
   "execution_count": null,
   "id": "ea18116b",
   "metadata": {},
   "outputs": [],
   "source": [
    "A.get_pandas()"
   ]
  },
  {
   "cell_type": "markdown",
   "id": "8a5875b3",
   "metadata": {},
   "source": [
    "## Get metadata  "
   ]
  },
  {
   "cell_type": "code",
   "execution_count": null,
   "id": "bc4a4b42",
   "metadata": {},
   "outputs": [],
   "source": [
    "A.get_metadata()"
   ]
  },
  {
   "cell_type": "markdown",
   "id": "44fdaa7e",
   "metadata": {},
   "source": [
    "## Data information"
   ]
  },
  {
   "cell_type": "code",
   "execution_count": null,
   "id": "79177540",
   "metadata": {},
   "outputs": [],
   "source": [
    "A.get_data()"
   ]
  },
  {
   "cell_type": "markdown",
   "id": "52b10393",
   "metadata": {},
   "source": [
    "## Add an other experiment"
   ]
  },
  {
   "cell_type": "code",
   "execution_count": null,
   "id": "df9a6737",
   "metadata": {},
   "outputs": [],
   "source": [
    "#url2='https://raw.githubusercontent.com/odadoun/DarkPlotter/main/json/SI-EDELWEISS-EDELWEISS-LM%20Migdal-ad6d0d92325506725b809f7e157477db.json'\n",
    "path=\"/Users/dadoun/Desktop/DarkMatter/DarkPlotter/json/SI-XENON-XENON1T-12723871358400c0c3ee60732374d3c9.json\"\n",
    "A.uploadexperiement(url=path)"
   ]
  },
  {
   "cell_type": "code",
   "execution_count": null,
   "id": "a1d56d34",
   "metadata": {},
   "outputs": [],
   "source": [
    "A.get_pandas()"
   ]
  },
  {
   "cell_type": "code",
   "execution_count": null,
   "id": "3fe7b87f",
   "metadata": {},
   "outputs": [],
   "source": [
    "A.get_data()"
   ]
  },
  {
   "cell_type": "markdown",
   "id": "4a43ff73",
   "metadata": {},
   "source": [
    "## Plot constructor"
   ]
  },
  {
   "cell_type": "code",
   "execution_count": null,
   "id": "eeca64fe",
   "metadata": {},
   "outputs": [],
   "source": [
    "B=dp.DMplotter()"
   ]
  },
  {
   "cell_type": "code",
   "execution_count": null,
   "id": "eff92c7c",
   "metadata": {},
   "outputs": [],
   "source": [
    "A.get_data()"
   ]
  },
  {
   "cell_type": "code",
   "execution_count": null,
   "id": "e77dfde8",
   "metadata": {},
   "outputs": [],
   "source": [
    "B.plot(A.get_pandas())"
   ]
  },
  {
   "cell_type": "markdown",
   "id": "6bf83c15",
   "metadata": {},
   "source": [
    "## A folder with experiement json can be loaded\n",
    "by defautl this folder\n",
    "https://github.com/odadoun/DarkPlotter/tree/NewGraphicToAdd/json/\n",
    "A conversion between github file path and rawgithub need to be done "
   ]
  },
  {
   "cell_type": "code",
   "execution_count": null,
   "id": "3b38f494",
   "metadata": {},
   "outputs": [],
   "source": [
    "# retrieve url "
   ]
  },
  {
   "cell_type": "code",
   "execution_count": null,
   "id": "3082f7af",
   "metadata": {},
   "outputs": [],
   "source": [
    "u=A.githubpath2raw()"
   ]
  },
  {
   "cell_type": "code",
   "execution_count": null,
   "id": "c8770494",
   "metadata": {},
   "outputs": [],
   "source": [
    "AA=dp.DMdata()\n",
    "AA.uploadexperiement(url=u.rawurl.tolist())"
   ]
  },
  {
   "cell_type": "code",
   "execution_count": null,
   "id": "5a571765",
   "metadata": {},
   "outputs": [],
   "source": [
    "B.plot(AA.get_pandas())"
   ]
  }
 ],
 "metadata": {
  "kernelspec": {
   "display_name": "Python 3 (ipykernel)",
   "language": "python",
   "name": "python3"
  },
  "language_info": {
   "codemirror_mode": {
    "name": "ipython",
    "version": 3
   },
   "file_extension": ".py",
   "mimetype": "text/x-python",
   "name": "python",
   "nbconvert_exporter": "python",
   "pygments_lexer": "ipython3",
   "version": "3.9.6"
  }
 },
 "nbformat": 4,
 "nbformat_minor": 5
}
