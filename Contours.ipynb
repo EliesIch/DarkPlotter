{
 "cells": [
  {
   "cell_type": "markdown",
   "id": "9c956b9a",
   "metadata": {},
   "source": [
    "# DM / Neutrino Plotter\n",
    "## O. Dadoun LPNHE dadoun@in2p3.fr\n",
    "https://github.com/odadoun/Xenon"
   ]
  },
  {
   "cell_type": "markdown",
   "id": "a963d027",
   "metadata": {},
   "source": [
    "#  <center>  DarkPlotter"
   ]
  },
  {
   "cell_type": "markdown",
   "id": "cc40f3bb",
   "metadata": {},
   "source": [
    "<img src=\"DeathStar.png\" alt=\"drawing\" width=\"400\" height='800'>"
   ]
  },
  {
   "cell_type": "markdown",
   "id": "bf3265ab",
   "metadata": {},
   "source": [
    "## Purpose : present DM / Neutrino exclusions plot on a WEB page \n",
    "- \"OpenScience\", everybody can reproduce the plot\n",
    "    - Jupyter Notebook  / Jupyterlab\n",
    "    - [Binder](https://mybinder.org/) / [Google Colab](https://colab.research.google.com/)\n",
    "- Python + [Bokeh](https://bokeh.org/) (pyton + js + html)\n",
    "- git repo for data experiment / theory  \n",
    "- csv / json format"
   ]
  },
  {
   "cell_type": "markdown",
   "id": "e8fc1518",
   "metadata": {
    "extensions": {
     "jupyter_dashboards": {
      "version": 1,
      "views": {
       "grid_default": {},
       "report_default": {}
      }
     }
    }
   },
   "source": [
    "## For this demo. data are from\n",
    "- https://arxiv.org/pdf/2109.03116.pdf \n",
    "- https://github.com/cajohare/NeutrinoFog"
   ]
  },
  {
   "cell_type": "markdown",
   "id": "f4792099",
   "metadata": {},
   "source": [
    "## Bokeh output variable "
   ]
  },
  {
   "cell_type": "code",
   "execution_count": null,
   "id": "afbefd72",
   "metadata": {
    "extensions": {
     "jupyter_dashboards": {
      "version": 1,
      "views": {
       "grid_default": {},
       "report_default": {}
      }
     }
    }
   },
   "outputs": [],
   "source": [
    "from bokeh.io import show, output_notebook\n",
    "output_notebook(hide_banner=True)"
   ]
  },
  {
   "cell_type": "markdown",
   "id": "f4ad7445",
   "metadata": {},
   "source": [
    "## Import darkplotter package"
   ]
  },
  {
   "cell_type": "code",
   "execution_count": null,
   "id": "47b6b4f9",
   "metadata": {
    "extensions": {
     "jupyter_dashboards": {
      "version": 1,
      "views": {
       "grid_default": {},
       "report_default": {}
      }
     }
    }
   },
   "outputs": [],
   "source": [
    "import darkplotter as dp"
   ]
  },
  {
   "cell_type": "markdown",
   "id": "65f148d7",
   "metadata": {},
   "source": [
    "## init Class basically figure definition "
   ]
  },
  {
   "cell_type": "code",
   "execution_count": null,
   "id": "c9f55c11",
   "metadata": {
    "extensions": {
     "jupyter_dashboards": {
      "version": 1,
      "views": {
       "grid_default": {},
       "report_default": {}
      }
     }
    }
   },
   "outputs": [],
   "source": [
    "A=dp.DMplotter()"
   ]
  },
  {
   "cell_type": "markdown",
   "id": "5c813f9b",
   "metadata": {},
   "source": [
    "## Read csv/json file + create a Pandas dataframe  & fill a dictionnary {exp:plotline}"
   ]
  },
  {
   "cell_type": "code",
   "execution_count": null,
   "id": "77779df7",
   "metadata": {
    "extensions": {
     "jupyter_dashboards": {
      "version": 1,
      "views": {
       "grid_default": {},
       "report_default": {}
      }
     }
    }
   },
   "outputs": [],
   "source": [
    "p=A.getfig()"
   ]
  },
  {
   "cell_type": "code",
   "execution_count": null,
   "id": "0d89e782",
   "metadata": {},
   "outputs": [],
   "source": [
    "print(p)"
   ]
  },
  {
   "cell_type": "markdown",
   "id": "b41e6bd4",
   "metadata": {},
   "source": [
    "## Draw curves"
   ]
  },
  {
   "cell_type": "code",
   "execution_count": null,
   "id": "9f1b4513",
   "metadata": {
    "extensions": {
     "jupyter_dashboards": {
      "version": 1,
      "views": {
       "grid_default": {},
       "report_default": {}
      }
     }
    }
   },
   "outputs": [],
   "source": [
    "A.plot(p)"
   ]
  },
  {
   "cell_type": "code",
   "execution_count": null,
   "id": "74d8e413",
   "metadata": {},
   "outputs": [],
   "source": []
  }
 ],
 "metadata": {
  "extensions": {
   "jupyter_dashboards": {
    "activeView": "grid_default",
    "version": 1,
    "views": {
     "grid_default": {
      "cellMargin": 10,
      "defaultCellHeight": 20,
      "maxColumns": 12,
      "name": "grid",
      "type": "grid"
     },
     "report_default": {
      "name": "report",
      "type": "report"
     }
    }
   }
  },
  "kernelspec": {
   "display_name": "Python 3 (ipykernel)",
   "language": "python",
   "name": "python3"
  },
  "language_info": {
   "codemirror_mode": {
    "name": "ipython",
    "version": 3
   },
   "file_extension": ".py",
   "mimetype": "text/x-python",
   "name": "python",
   "nbconvert_exporter": "python",
   "pygments_lexer": "ipython3",
   "version": "3.9.6"
  }
 },
 "nbformat": 4,
 "nbformat_minor": 5
}
