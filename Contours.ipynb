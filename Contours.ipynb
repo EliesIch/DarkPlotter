{
 "cells": [
  {
   "cell_type": "markdown",
   "id": "ff287751",
   "metadata": {},
   "source": [
    "# DM / Neutrino Plotter\n",
    "## O. Dadoun LPNHE dadoun@in2p3.fr\n",
    "https://github.com/odadoun/Xenon"
   ]
  },
  {
   "cell_type": "markdown",
   "id": "8dd50ef5",
   "metadata": {},
   "source": [
    "# Purpose : present DM / Neutrino exclusions plot on a WEB page \n",
    "- git repo for data experiment / theory  format csv / json format\n",
    "- Python + Bokeh (javascript/html)\n",
    "- Jupyter Notebook for interaction\n",
    "- World access "
   ]
  },
  {
   "cell_type": "markdown",
   "id": "e8fc1518",
   "metadata": {
    "extensions": {
     "jupyter_dashboards": {
      "version": 1,
      "views": {
       "grid_default": {},
       "report_default": {}
      }
     }
    }
   },
   "source": [
    "\n",
    "- https://arxiv.org/pdf/2109.03116.pdf \n",
    "- https://github.com/cajohare/NeutrinoFog"
   ]
  },
  {
   "cell_type": "code",
   "execution_count": null,
   "id": "afbefd72",
   "metadata": {
    "extensions": {
     "jupyter_dashboards": {
      "version": 1,
      "views": {
       "grid_default": {},
       "report_default": {}
      }
     }
    }
   },
   "outputs": [],
   "source": [
    "# few bokeh variable \n",
    "from bokeh.io import show, output_notebook\n",
    "output_notebook(hide_banner=True)"
   ]
  },
  {
   "cell_type": "code",
   "execution_count": null,
   "id": "47b6b4f9",
   "metadata": {
    "extensions": {
     "jupyter_dashboards": {
      "version": 1,
      "views": {
       "grid_default": {},
       "report_default": {}
      }
     }
    }
   },
   "outputs": [],
   "source": [
    "#Import darkplotter package\n",
    "import darkplotter as dp"
   ]
  },
  {
   "cell_type": "code",
   "execution_count": null,
   "id": "c9f55c11",
   "metadata": {
    "extensions": {
     "jupyter_dashboards": {
      "version": 1,
      "views": {
       "grid_default": {},
       "report_default": {}
      }
     }
    }
   },
   "outputs": [],
   "source": [
    "# init Class basically figure definition \n",
    "A=dp.DMplotter()"
   ]
  },
  {
   "cell_type": "code",
   "execution_count": null,
   "id": "77779df7",
   "metadata": {
    "extensions": {
     "jupyter_dashboards": {
      "version": 1,
      "views": {
       "grid_default": {},
       "report_default": {}
      }
     }
    }
   },
   "outputs": [],
   "source": [
    "# Read csv/json file\n",
    "# Create a Pandas dataframe\n",
    "# Fill a dictionnary {exp:plotline}\n",
    "p=A.getfig()"
   ]
  },
  {
   "cell_type": "code",
   "execution_count": null,
   "id": "0306f874",
   "metadata": {},
   "outputs": [],
   "source": [
    "print(p)"
   ]
  },
  {
   "cell_type": "code",
   "execution_count": null,
   "id": "9f1b4513",
   "metadata": {
    "extensions": {
     "jupyter_dashboards": {
      "version": 1,
      "views": {
       "grid_default": {},
       "report_default": {}
      }
     }
    }
   },
   "outputs": [],
   "source": [
    "A.plot(p)"
   ]
  },
  {
   "cell_type": "code",
   "execution_count": null,
   "id": "18ee8cbf",
   "metadata": {},
   "outputs": [],
   "source": []
  }
 ],
 "metadata": {
  "extensions": {
   "jupyter_dashboards": {
    "activeView": "grid_default",
    "version": 1,
    "views": {
     "grid_default": {
      "cellMargin": 10,
      "defaultCellHeight": 20,
      "maxColumns": 12,
      "name": "grid",
      "type": "grid"
     },
     "report_default": {
      "name": "report",
      "type": "report"
     }
    }
   }
  },
  "kernelspec": {
   "display_name": "Python 3 (ipykernel)",
   "language": "python",
   "name": "python3"
  },
  "language_info": {
   "codemirror_mode": {
    "name": "ipython",
    "version": 3
   },
   "file_extension": ".py",
   "mimetype": "text/x-python",
   "name": "python",
   "nbconvert_exporter": "python",
   "pygments_lexer": "ipython3",
   "version": "3.9.6"
  }
 },
 "nbformat": 4,
 "nbformat_minor": 5
}
