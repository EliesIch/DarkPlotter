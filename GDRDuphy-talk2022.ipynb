{
 "cells": [
  {
   "cell_type": "markdown",
   "id": "5a5ec639",
   "metadata": {
    "slideshow": {
     "slide_type": "slide"
    }
   },
   "source": [
    "<h1><center>The Dark Matter Plotter</center></h1> \n",
    "<div style=\"text-align: center;\">\n",
    "<img src=\"images/DeathStar.png\" alt=\"FAIRE\" style=\"width: 400px;\"/>\n",
    "</div>\n",
    "\n",
    "---\n",
    "\n",
    "[Olivier Dadoun](mailto:dadoun@in2p3.fr), LPNHE/IN2P3 <br> \n",
    "[october 2022  GDR DUPhy Subatech Nantes](https://indico.in2p3.fr/event/27894/) "
   ]
  },
  {
   "cell_type": "markdown",
   "id": "19ac48df",
   "metadata": {
    "slideshow": {
     "slide_type": "subslide"
    }
   },
   "source": [
    "<h1><center> Foreword on Open Science  </center></h1> \n",
    "\n",
    "- Lot of definitions / perception concerning Open Science\n",
    "\n",
    "- Open Science is the practice of science in such a way that others can collaborate and contribute to accelerate scientific research and understanding \n",
    "\n",
    "    - scientific community \n",
    "\n",
    "    - wider public <br>\n",
    " \n",
    "- Open science is inherently collaborative\n",
    "\n",
    "- Principles include ideas such as :\n",
    "    \n",
    "    - open data \n",
    "    \n",
    "    - open source software \n",
    "    \n",
    "    - open journal access \n",
    "    \n",
    "    - reproducibility \n"
   ]
  },
  {
   "cell_type": "markdown",
   "id": "b8e706de",
   "metadata": {
    "slideshow": {
     "slide_type": "subslide"
    }
   },
   "source": [
    "* As science has become increasingly data driven, data programs now play a critical role in enabling and accelerating open science\n",
    "\n",
    "[Open definition](http://opendefinition.org/) \n",
    "\"Open data and content can be freely used, modified, and shared by anyone for any purpose\"\n",
    "\n",
    "---\n",
    "**Dark Matter Data and Analysis Preservation service as a FAIR (Findable, Accessible, Interoperable and Reusable)**\n",
    "\n",
    "&rarr; Allow community to deposit and share the structured information about analyses\n",
    "\n",
    "---\n",
    "<p align=\"center\">\n",
    "    <img src=\"images/FAIRsymbols.jpg\" alt=\"FAIRE\" style=\"width: 200px;\"/>\n",
    "</p>\n"
   ]
  },
  {
   "cell_type": "markdown",
   "id": "49b4a655",
   "metadata": {
    "slideshow": {
     "slide_type": "subslide"
    }
   },
   "source": [
    "---\n",
    "# What's FAIR data ?\n",
    "## Data which meet principles of findability, accessibility, interoperability, and reusability\n",
    "\n",
    "---\n",
    "\n",
    "* ### Findable\n",
    "\n",
    "The first step in (re)using data is to find them\n",
    "\n",
    "&rarr; Metadata and data should be easy to find for both <span style=\"text-decoration:underline\">humans</span> and <span style=\"text-decoration:underline\">computers</span>\n",
    "\n",
    "* ###  Accessible\n",
    "\n",
    "Once the user finds the required data, they need to know how they can be accessed\n",
    "\n",
    "* ###  Interoperable\n",
    "\n",
    "The data usually need to be integrated with other data.\n",
    "\n",
    "* ###  Reusable\n",
    "\n",
    "The ultimate goal of FAIR is to optimise the reuse of data. \n",
    "\n",
    "To achieve this, metadata and data should be<span style=\"text-decoration:underline\">well-described </span> so that they can be replicated and/or combined in different settings\n",
    "\n",
    "<img src=\"images/fairdata.png\" alt=\"FAIRE\" style=\"width: 800px;\"/>\n"
   ]
  },
  {
   "cell_type": "markdown",
   "id": "9f5de42c",
   "metadata": {
    "slideshow": {
     "slide_type": "subslide"
    }
   },
   "source": [
    "<h1><center> Motivation for a Dark Matter Plotter initiative </center></h1> \n",
    "\n",
    "## Dark Matter opendata portal : proof of concept with\n",
    "\n",
    "> ### datasets : from experiments & simulations on a github repositry\n",
    "\n",
    "> ### documentation : metadata from the datasets including references\n",
    "\n",
    "> ### software : an interactive plotter\n",
    "\n"
   ]
  },
  {
   "cell_type": "markdown",
   "id": "eb71fe83",
   "metadata": {
    "slideshow": {
     "slide_type": "subslide"
    }
   },
   "source": [
    "\n",
    "\n",
    "\n",
    "<p align=\"center\">\n",
    "<img src=\"images/jupyterpython.png\"  style=\"width: 250px;\"/>\n",
    "</p>\n",
    "\n",
    "## Python  + Jupyter notebooks \n",
    "\n",
    "* help data scientists to combine code, explanatory text and multimedia resources in one document \n",
    "\n",
    "* make science more visual and easily understandable.\n",
    "\n",
    "* make scientific collaboration easier\n",
    "\n",
    "* can work as gate-opener for general public\n",
    "\n",
    "\n"
   ]
  },
  {
   "cell_type": "markdown",
   "id": "588f9a07",
   "metadata": {
    "slideshow": {
     "slide_type": "subslide"
    }
   },
   "source": [
    "<img src=\"images/bokeh.png\" alt=\"FAIRE\" style=\"width: 200px;\"/>\n",
    "\n",
    "## Bokeh\n",
    "\n",
    "Bokeh is a Python visualization library for large datasets that natively uses the latest web technologies. \n",
    "\n",
    "\n",
    "* easily create novel and powerful visualizations\n",
    "\n",
    "* that extract insight from remote, possibly large data sets\n",
    "\n",
    "* published to the web for others to explore and interact\n"
   ]
  },
  {
   "cell_type": "markdown",
   "id": "def69a1b",
   "metadata": {
    "slideshow": {
     "slide_type": "subslide"
    }
   },
   "source": [
    "# Data packaging \n",
    "Data packages are containers for describing and sharing accompanying data files, \n",
    "and typically comprise a metadata file describing the features and context of a dataset. \n",
    "This can include aspects such as creation information, provenance, size, format type, field definitions,\n",
    "as well \n",
    "as any relevant contextual files, such as data creation scripts or textual documentation\n",
    "\n",
    "## The Public\n",
    "\n",
    "The general public may not be interested in using the data*, \n",
    "but they are interested in seeing the results. Without the work from the other interested parties,\n",
    "the public does not have anything to view except the raw data.\n",
    "\n",
    "Counterexample: abviouly it depends on the data see #covid19 data and the lot of public dashboard released  counterexample. \n",
    "By the way let me make some advertasing for my covid19 Python analysis project: pycoa.fr"
   ]
  },
  {
   "cell_type": "markdown",
   "id": "1902f517",
   "metadata": {
    "slideshow": {
     "slide_type": "slide"
    }
   },
   "source": [
    "## Code\n",
    "https://github.com/odadoun/darkplotter\n",
    "\n",
    "## JSON  files\n",
    "https://github.com/odadoun/DarkPlotter/tree/NewGraphicToAdd/json/ "
   ]
  },
  {
   "cell_type": "markdown",
   "id": "49dfaf17",
   "metadata": {
    "slideshow": {
     "slide_type": "subslide"
    }
   },
   "source": [
    "# First load the darplotter package"
   ]
  },
  {
   "cell_type": "code",
   "execution_count": null,
   "id": "283f3817",
   "metadata": {
    "slideshow": {
     "slide_type": "fragment"
    }
   },
   "outputs": [],
   "source": [
    "import darkplotter as dp"
   ]
  },
  {
   "cell_type": "markdown",
   "id": "4fa3756f",
   "metadata": {
    "slideshow": {
     "slide_type": "fragment"
    }
   },
   "source": [
    "# Constructor  + upload an experiment "
   ]
  },
  {
   "cell_type": "code",
   "execution_count": null,
   "id": "2b447cd7",
   "metadata": {
    "slideshow": {
     "slide_type": "fragment"
    }
   },
   "outputs": [],
   "source": [
    "# constructor\n",
    "A=dp.DMdata()\n",
    "\n",
    "# specify where the json data are\n",
    "url='https://raw.githubusercontent.com/odadoun/DarkPlotter/main/json/SI-CDMS-CDMS%20Si-b1519fe1d0d66e576bc7e5400a5709f0.json'\n",
    "# upload data and metadata\n",
    "A.uploadexperiement(url=url)"
   ]
  },
  {
   "cell_type": "markdown",
   "id": "43fc9309",
   "metadata": {
    "scrolled": false,
    "slideshow": {
     "slide_type": "subslide"
    }
   },
   "source": [
    "# Metadata as a pandas DataFrame"
   ]
  },
  {
   "cell_type": "code",
   "execution_count": null,
   "id": "dcba1f0d",
   "metadata": {
    "slideshow": {
     "slide_type": "fragment"
    }
   },
   "outputs": [],
   "source": [
    "## Get metadata  \n",
    "A.getmetadata()"
   ]
  },
  {
   "cell_type": "markdown",
   "id": "cf8675d5",
   "metadata": {
    "slideshow": {
     "slide_type": "fragment"
    }
   },
   "source": [
    "# data as a pandas DataFrame"
   ]
  },
  {
   "cell_type": "code",
   "execution_count": null,
   "id": "da655fc9",
   "metadata": {
    "slideshow": {
     "slide_type": "fragment"
    }
   },
   "outputs": [],
   "source": [
    "#Get Data\n",
    "A.getdata()"
   ]
  },
  {
   "cell_type": "code",
   "execution_count": null,
   "id": "d9d375c1",
   "metadata": {
    "slideshow": {
     "slide_type": "subslide"
    }
   },
   "outputs": [],
   "source": [
    "#Add other experiment\n",
    "url2='https://raw.githubusercontent.com/odadoun/DarkPlotter/main/json/SI-EDELWEISS-EDELWEISS-LM%20Migdal-ad6d0d92325506725b809f7e157477db.json'\n",
    "A.uploadexperiement(url=url2)"
   ]
  },
  {
   "cell_type": "code",
   "execution_count": null,
   "id": "5e6ffa50",
   "metadata": {
    "slideshow": {
     "slide_type": "fragment"
    }
   },
   "outputs": [],
   "source": [
    "A.getmetadata()"
   ]
  },
  {
   "cell_type": "code",
   "execution_count": null,
   "id": "6b1efe48",
   "metadata": {
    "slideshow": {
     "slide_type": "fragment"
    }
   },
   "outputs": [],
   "source": [
    "A.getdata()"
   ]
  },
  {
   "cell_type": "markdown",
   "id": "a20e3508",
   "metadata": {
    "slideshow": {
     "slide_type": "subslide"
    }
   },
   "source": [
    "# DMplotter constructor"
   ]
  },
  {
   "cell_type": "code",
   "execution_count": null,
   "id": "5872b54f",
   "metadata": {
    "slideshow": {
     "slide_type": "fragment"
    }
   },
   "outputs": [],
   "source": [
    "#Plotter constructor\n",
    "B=dp.DMplotter()"
   ]
  },
  {
   "cell_type": "code",
   "execution_count": null,
   "id": "8cdce41a",
   "metadata": {
    "slideshow": {
     "slide_type": "fragment"
    }
   },
   "outputs": [],
   "source": [
    "A.getdata()\n",
    "B.plot(A.getdata())"
   ]
  },
  {
   "cell_type": "code",
   "execution_count": null,
   "id": "af99c5f8",
   "metadata": {
    "slideshow": {
     "slide_type": "subslide"
    }
   },
   "outputs": [],
   "source": [
    "u=A.githubpath2raw()"
   ]
  },
  {
   "cell_type": "code",
   "execution_count": null,
   "id": "15cad29a",
   "metadata": {
    "slideshow": {
     "slide_type": "fragment"
    }
   },
   "outputs": [],
   "source": [
    "AA=dp.DMdata()\n",
    "AA.uploadexperiement(url=u.rawurl.tolist())"
   ]
  },
  {
   "cell_type": "code",
   "execution_count": null,
   "id": "4ccdd108",
   "metadata": {
    "slideshow": {
     "slide_type": "fragment"
    }
   },
   "outputs": [],
   "source": [
    "B.plot(AA.getdata())"
   ]
  },
  {
   "cell_type": "markdown",
   "id": "698db574",
   "metadata": {
    "slideshow": {
     "slide_type": "subslide"
    }
   },
   "source": [
    "# Bibliography\n",
    "\n",
    "Picture and content for this notebook can be found here:\n",
    "\n",
    "## From Open Data to Open Science,  Rahul Ramachandran1& al. (NASA)\n",
    "\n",
    "https://agupubs.onlinelibrary.wiley.com/doi/epdf/10.1029/2020EA001562\n",
    "\n",
    "## The Open Science Training Handbook\n",
    "\n",
    "https://open-science-training-handbook.gitbook.io/book/open-science-basics/open-research-data-and-materials"
   ]
  }
 ],
 "metadata": {
  "celltoolbar": "Slideshow",
  "kernelspec": {
   "display_name": "Python 3 (ipykernel)",
   "language": "python",
   "name": "python3"
  },
  "language_info": {
   "codemirror_mode": {
    "name": "ipython",
    "version": 3
   },
   "file_extension": ".py",
   "mimetype": "text/x-python",
   "name": "python",
   "nbconvert_exporter": "python",
   "pygments_lexer": "ipython3",
   "version": "3.9.6"
  }
 },
 "nbformat": 4,
 "nbformat_minor": 5
}
