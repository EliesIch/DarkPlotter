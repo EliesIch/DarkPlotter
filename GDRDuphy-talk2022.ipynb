{
 "cells": [
  {
   "cell_type": "markdown",
   "id": "5a5ec639",
   "metadata": {
    "slideshow": {
     "slide_type": "slide"
    }
   },
   "source": [
    "<h1><center>The Dark Matter Plotter</center></h1> \n",
    "<div style=\"text-align: center;\">\n",
    "<img src=\"images/DeathStar.png\" alt=\"FAIRE\" style=\"width: 400px;\"/>\n",
    "</div>\n",
    "\n",
    "---\n",
    "\n",
    "## [Olivier Dadoun](mailto:dadoun@in2p3.fr)  & Scotto Lavina Luca -  LPNHE/IN2P3 Sorbonne Univ / Paris Cité\n",
    "\n",
    "### [October 2022  GDR DUPhy @Subatech Nantes](https://indico.in2p3.fr/event/27894/) \n",
    "\n",
    "You can execute this notebook without any installation (wait ~ 20s)\n",
    "[![Binder](https://mybinder.org/badge_logo.svg)](https://mybinder.org/v2/gh/odadoun/DarkPlotter/HEAD?urlpath=/tree/GDRDuphy-talk2022.ipynb)"
   ]
  },
  {
   "cell_type": "markdown",
   "id": "19ac48df",
   "metadata": {
    "slideshow": {
     "slide_type": "slide"
    }
   },
   "source": [
    "<h1><center> The DM plotter as an Open Science initiative </center></h1> \n",
    "\n",
    "<div style=\"text-align: center;\">\n",
    "<img src=\"images/open-science.jpg\" alt=\"FAIRE\" style=\"width: 400px;\"/>\n",
    "</div>\n",
    "\n",
    "- ## Principles include ideas such as :\n",
    "    \n",
    "    - open data \n",
    "    \n",
    "    - open source software \n",
    "\n"
   ]
  },
  {
   "cell_type": "markdown",
   "id": "5ac042db",
   "metadata": {
    "slideshow": {
     "slide_type": "subslide"
    }
   },
   "source": [
    "- ## Open science is inherently collaborative\n",
    "\n",
    "    - others can collaborate and contribute to accelerate scientific research and understanding \n",
    "    \n",
    "    - scientific community but also wider public"
   ]
  },
  {
   "cell_type": "markdown",
   "id": "83792de1",
   "metadata": {
    "slideshow": {
     "slide_type": "subslide"
    }
   },
   "source": [
    "### The Public\n",
    "   - The general public may not be interested in using the data \n",
    "     but they are interested in seeing the results\n",
    "   - The results should be beautifull and easily editable"
   ]
  },
  {
   "cell_type": "markdown",
   "id": "9f5de42c",
   "metadata": {
    "slideshow": {
     "slide_type": "slide"
    }
   },
   "source": [
    "<h1><center> Dark Matter Plotter requierements </center></h1> \n",
    "\n",
    "### 1. Data packaging : from experiments & simulations\n",
    "\n",
    "   - The datasets should include **_metadata_**, a complete description of the data and references<br>\n",
    "   metadata and data should be <span style=\"text-decoration:underline\">well-described </span> so that they can be replicated and/or combined in different settings\n",
    "   \n",
    "   - The **_creation information_**, provenance, size, format type, field definitions,\n",
    "     as well as any relevant contextual files, such as data creation scripts or textual documentation\n",
    " \n",
    "   - Different format could be used (cvs, xml ...) and **_json_** has been choosen "
   ]
  },
  {
   "cell_type": "markdown",
   "id": "ce2b8009",
   "metadata": {
    "slideshow": {
     "slide_type": "subslide"
    }
   },
   "source": [
    " ### 2.  Software plotter\n",
    " \n",
    " \n",
    "  - **_Interactive_** web oriented plotter &rightarrow; Jupyter notebook\n",
    "     \n",
    "  - **_Simple and easy_** to use (and not new) &rightarrow; Python\n",
    "  \n",
    "  - **_Beautifull rendered_** &rightarrow; Bokeh Library"
   ]
  },
  {
   "cell_type": "markdown",
   "id": "8227e3ac",
   "metadata": {
    "slideshow": {
     "slide_type": "subslide"
    }
   },
   "source": [
    "<img src=\"images/jupyter+python+bokeh.png\"  style=\"width: 200px;\"/>\n",
    "\n",
    "- ### Help data scientists to combine code, explanatory text and multimedia resources in one document \n",
    "- ### Make science more visual and easily understandable\n",
    "- ### Make scientific collaboration easier\n",
    "- ### Can work as gate-opener for general public\n",
    "- ### Easily create novel and powerful visualizations\n"
   ]
  },
  {
   "cell_type": "markdown",
   "id": "1902f517",
   "metadata": {
    "slideshow": {
     "slide_type": "slide"
    }
   },
   "source": [
    "<h1><center> Let try ... </center></h1>  \n",
    "\n",
    "# Code\n",
    "https://github.com/odadoun/darkplotter\n",
    "\n",
    "# JSON  files\n",
    "https://github.com/odadoun/DarkPlotter/tree/main/json\n",
    "\n",
    "### You can clone the repo or execute this notebook online\n",
    "[![Binder](https://mybinder.org/badge_logo.svg)](https://mybinder.org/v2/gh/odadoun/DarkPlotter/HEAD?urlpath=/tree/GDRDuphy-talk2022.ipynb)\n"
   ]
  },
  {
   "cell_type": "markdown",
   "id": "49dfaf17",
   "metadata": {
    "slideshow": {
     "slide_type": "subslide"
    }
   },
   "source": [
    "# 0.  Load the darplotter library"
   ]
  },
  {
   "cell_type": "code",
   "execution_count": null,
   "id": "21b56e1e",
   "metadata": {
    "slideshow": {
     "slide_type": "fragment"
    }
   },
   "outputs": [],
   "source": [
    "import darkplotter as dp"
   ]
  },
  {
   "cell_type": "markdown",
   "id": "d819b17f",
   "metadata": {
    "slideshow": {
     "slide_type": "fragment"
    }
   },
   "source": [
    "# Classes \n",
    "\n",
    "## &rarr; Data manager  : DMdata()\n",
    "### manage the uploading data (web url / local path) & information on metadata\n",
    "\n",
    "## &rarr; Graphics rendering  : DMPlotter()\n",
    "### manage the graphic and give an access to Bokeh methods "
   ]
  },
  {
   "cell_type": "markdown",
   "id": "786b0427",
   "metadata": {
    "slideshow": {
     "slide_type": "subslide"
    }
   },
   "source": [
    "# 1. Call the Data manager constructor  & upload json file"
   ]
  },
  {
   "cell_type": "code",
   "execution_count": null,
   "id": "7eaff8fd",
   "metadata": {
    "slideshow": {
     "slide_type": "fragment"
    }
   },
   "outputs": [],
   "source": [
    "# constructor\n",
    "mydata = dp.DMdata()\n",
    "\n",
    "# url or local path\n",
    "url='https://raw.githubusercontent.com/odadoun/DarkPlotter/main/\\\n",
    "json/SI-CDMS-CDMS%20Si-b1519fe1d0d66e576bc7e5400a5709f0.json' \n",
    "\n",
    "# upload experiement\n",
    "mydata.uploadexperiement(url=url)"
   ]
  },
  {
   "cell_type": "markdown",
   "id": "43fc9309",
   "metadata": {
    "scrolled": false,
    "slideshow": {
     "slide_type": "subslide"
    }
   },
   "source": [
    "# Data and metadata are stored into a pandas 🐼 DataFrame\n",
    "\n",
    "> ### Get meta data informations"
   ]
  },
  {
   "cell_type": "code",
   "execution_count": null,
   "id": "dcba1f0d",
   "metadata": {
    "slideshow": {
     "slide_type": "fragment"
    }
   },
   "outputs": [],
   "source": [
    "## Get metadata  \n",
    "mydata.get_metadata()"
   ]
  },
  {
   "cell_type": "markdown",
   "id": "cf8675d5",
   "metadata": {
    "slideshow": {
     "slide_type": "fragment"
    }
   },
   "source": [
    "> # Get data informations "
   ]
  },
  {
   "cell_type": "code",
   "execution_count": null,
   "id": "da655fc9",
   "metadata": {
    "slideshow": {
     "slide_type": "fragment"
    }
   },
   "outputs": [],
   "source": [
    "#Get Data\n",
    "mydata.get_data()"
   ]
  },
  {
   "cell_type": "markdown",
   "id": "47af9e30",
   "metadata": {
    "slideshow": {
     "slide_type": "subslide"
    }
   },
   "source": [
    "# 1.bis Add an other experiement"
   ]
  },
  {
   "cell_type": "code",
   "execution_count": null,
   "id": "d9d375c1",
   "metadata": {
    "slideshow": {
     "slide_type": "fragment"
    }
   },
   "outputs": [],
   "source": [
    "#Add other experiment\n",
    "url2='https://raw.githubusercontent.com/odadoun/DarkPlotter/main/json/\\\n",
    "SI-EDELWEISS-EDELWEISS-LM%20Migdal-ad6d0d92325506725b809f7e157477db.json'\n",
    "mydata.uploadexperiement(url=url2)"
   ]
  },
  {
   "cell_type": "code",
   "execution_count": null,
   "id": "5e6ffa50",
   "metadata": {
    "slideshow": {
     "slide_type": "fragment"
    }
   },
   "outputs": [],
   "source": [
    "mydata.get_metadata()"
   ]
  },
  {
   "cell_type": "code",
   "execution_count": null,
   "id": "6b1efe48",
   "metadata": {
    "slideshow": {
     "slide_type": "fragment"
    }
   },
   "outputs": [],
   "source": [
    "mydata.get_metadata().index.to_list()"
   ]
  },
  {
   "cell_type": "code",
   "execution_count": null,
   "id": "01dd5d6d",
   "metadata": {
    "slideshow": {
     "slide_type": "subslide"
    }
   },
   "outputs": [],
   "source": [
    "mydata.get_data()"
   ]
  },
  {
   "cell_type": "markdown",
   "id": "a20e3508",
   "metadata": {
    "slideshow": {
     "slide_type": "subslide"
    }
   },
   "source": [
    "# 2. Call the DMplotter constructor"
   ]
  },
  {
   "cell_type": "code",
   "execution_count": null,
   "id": "5872b54f",
   "metadata": {
    "slideshow": {
     "slide_type": "fragment"
    }
   },
   "outputs": [],
   "source": [
    "myplotter=dp.DMplotter()"
   ]
  },
  {
   "cell_type": "code",
   "execution_count": null,
   "id": "879a6c1b",
   "metadata": {
    "slideshow": {
     "slide_type": "fragment"
    }
   },
   "outputs": [],
   "source": [
    "mydata.get_data()"
   ]
  },
  {
   "cell_type": "code",
   "execution_count": null,
   "id": "8cdce41a",
   "metadata": {
    "slideshow": {
     "slide_type": "fragment"
    }
   },
   "outputs": [],
   "source": [
    "myplotter.plot(mydata.get_pandas())"
   ]
  },
  {
   "cell_type": "markdown",
   "id": "e70d2fcf",
   "metadata": {},
   "source": [
    "## Upload all the data"
   ]
  },
  {
   "cell_type": "code",
   "execution_count": null,
   "id": "af99c5f8",
   "metadata": {
    "slideshow": {
     "slide_type": "subslide"
    }
   },
   "outputs": [],
   "source": [
    "u=mydata.githubpath2raw()\n",
    "print(len(u))\n",
    "mydata.uploadexperiement(url=u.rawurl.tolist())"
   ]
  },
  {
   "cell_type": "code",
   "execution_count": null,
   "id": "15cad29a",
   "metadata": {
    "slideshow": {
     "slide_type": "fragment"
    }
   },
   "outputs": [],
   "source": [
    "mydata.get_metadata()"
   ]
  },
  {
   "cell_type": "code",
   "execution_count": null,
   "id": "4ccdd108",
   "metadata": {
    "slideshow": {
     "slide_type": "fragment"
    }
   },
   "outputs": [],
   "source": [
    "myplotter.plot(mydata.get_pandas())"
   ]
  },
  {
   "cell_type": "markdown",
   "id": "5899cc17",
   "metadata": {},
   "source": [
    "# 3. Interact, modify and save graphics (as HTMl / png ...)"
   ]
  },
  {
   "cell_type": "markdown",
   "id": "33f61f6f",
   "metadata": {
    "slideshow": {
     "slide_type": "slide"
    }
   },
   "source": [
    "# Conclusion / prospects\n",
    "\n",
    "- ## Some feedback are needed\n",
    "- ## Data & metadata should be well-described \n",
    "    - FAIR data initiative : Data which meet principles of findability, accessibility, interoperability, and reusability\n",
    "<p align=\"center\">\n",
    "    <img src=\"images/FAIRsymbols.jpg\" alt=\"FAIRE\" style=\"width: 200px;\"/>\n",
    "</p>\n",
    "- ..."
   ]
  },
  {
   "cell_type": "markdown",
   "id": "698db574",
   "metadata": {
    "slideshow": {
     "slide_type": "subslide"
    }
   },
   "source": [
    "# Bibliography\n",
    "\n",
    "Picture and content for this notebook can be found here:\n",
    "\n",
    "## From Open Data to Open Science,  Rahul Ramachandran1& al. (NASA)\n",
    "\n",
    "https://agupubs.onlinelibrary.wiley.com/doi/epdf/10.1029/2020EA001562\n",
    "\n",
    "## The Open Science Training Handbook\n",
    "\n",
    "https://open-science-training-handbook.gitbook.io/book/open-science-basics/open-research-data-and-materials\n",
    "\n",
    "## FAIR Principles\n",
    "https://www.go-fair.org/fair-principles/"
   ]
  }
 ],
 "metadata": {
  "celltoolbar": "Slideshow",
  "kernelspec": {
   "display_name": "Python 3 (ipykernel)",
   "language": "python",
   "name": "python3"
  },
  "language_info": {
   "codemirror_mode": {
    "name": "ipython",
    "version": 3
   },
   "file_extension": ".py",
   "mimetype": "text/x-python",
   "name": "python",
   "nbconvert_exporter": "python",
   "pygments_lexer": "ipython3",
   "version": "3.9.6"
  }
 },
 "nbformat": 4,
 "nbformat_minor": 5
}
