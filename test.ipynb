{
  "cells": [
    {
      "cell_type": "code",
      "metadata": {},
      "source": [
        "from bokeh.plotting import figure, output_file, show,output_notebook\n",
        "from bokeh.models import Range1d, ColumnDataSource, Column, Select, CustomJS\n",
        "#from bokeh.models.widgets import Select\n",
        "from bokeh.layouts import column, row\n",
        "import pandas as pd\n",
        "from bokeh.io import curdoc\n",
        "from bokeh.palettes import Spectral4\n",
        "import requests\n",
        "from pandas.io.json import json_normalize\n",
        "import ssl\n",
        "output_notebook(hide_banner=True)\n",
        "\n",
        "\n",
        "\n",
        "ssl._create_default_https_context = ssl._create_unverified_context\n",
        "\n",
        "output_file(\"line.html\")\n",
        "\n",
        "import json\n",
        "\n",
        "url=\"https://raw.githubusercontent.com/odadoun/Xenon/main/json/graphcc2.json\"\n",
        "df = pd.read_json(url)\n",
        "\n",
        "TOOLTIPS = [\n",
        "    (\"(x,y)\", \"($x, $y)\"),\n",
        "    ('name', \"$name\")\n",
        "]\n",
        "\n",
        "fig = figure(plot_width=400, plot_height=400,tooltips=TOOLTIPS,)\n",
        "source=ColumnDataSource(df)\n",
        "\n",
        "fig.line('x', 'y',line_width=2,name='collaboration',legend_label='experiment',source=source)\n",
        "\n",
        "\n",
        "fig.legend.location = \"top_right\"\n",
        "fig.legend.click_policy=\"hide\"\n",
        "show(fig)\n"
      ],
      "outputs": [],
      "execution_count": null
    }
  ],
  "metadata": {
    "anaconda-cloud": {},
    "kernelspec": {
      "display_name": "Python 3",
      "language": "python",
      "name": "python3"
    },
    "language_info": {
      "codemirror_mode": {
        "name": "ipython",
        "version": 3
      },
      "file_extension": ".py",
      "mimetype": "text/x-python",
      "name": "python",
      "nbconvert_exporter": "python",
      "pygments_lexer": "ipython3",
      "version": "3.6.1"
    }
  },
  "nbformat": 4,
  "nbformat_minor": 4
}